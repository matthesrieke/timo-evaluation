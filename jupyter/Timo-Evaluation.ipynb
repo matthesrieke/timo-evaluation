{
 "cells": [
  {
   "cell_type": "markdown",
   "metadata": {},
   "source": [
    "# CSV aus Timo erstellen\n",
    "\n",
    "1. Ganzen Monat auswählen\n",
    "2. Projektauswertung \"Grobansicht der Zwischensummen\" (Sortieren nach: Mitarbeiter, Projekte)\n",
    "3. Oben rechts \"Daten exportieren (\"Tabstopp\" als Default lassen)"
   ]
  },
  {
   "cell_type": "code",
   "execution_count": null,
   "metadata": {},
   "outputs": [],
   "source": [
    "import sys\n",
    "!{sys.executable} -m pip install pandas\n",
    "!{sys.executable} -m pip install openpyxl\n",
    "\n",
    "import pandas\n",
    "import requests"
   ]
  },
  {
   "cell_type": "code",
   "execution_count": null,
   "metadata": {},
   "outputs": [],
   "source": [
    "def read_csv(filename):\n",
    "    my_data = pandas.read_csv(filename, sep='\\t', index_col=False)\n",
    "\n",
    "    return my_data"
   ]
  },
  {
   "cell_type": "code",
   "execution_count": null,
   "metadata": {
    "tags": [
     "parameters"
    ]
   },
   "outputs": [],
   "source": [
    "input_filename = 'auswertung.csv'\n",
    "JSESSIONID = ''\n",
    "start_date = '2021-03-01'\n",
    "end_date = '2021-03-31'\n",
    "output = 'out.xlsx'"
   ]
  },
  {
   "cell_type": "code",
   "execution_count": null,
   "metadata": {},
   "outputs": [],
   "source": [
    "\n",
    "cookies = {\n",
    "    'JSESSIONID': JSESSIONID,\n",
    "    'logoffUrl': 'https%3A//www.timo24.de/members/login/',\n",
    "}\n",
    "\n",
    "headers = {\n",
    "    'Connection': 'keep-alive',\n",
    "    'Upgrade-Insecure-Requests': '1',\n",
    "    'User-Agent': 'Mozilla/5.0 (X11; Linux x86_64) AppleWebKit/537.36 (KHTML, like Gecko) Chrome/89.0.4389.90 Safari/537.36',\n",
    "    'Accept': 'text/html,application/xhtml+xml,application/xml;q=0.9,image/avif,image/webp,image/apng,*/*;q=0.8,application/signed-exchange;v=b3;q=0.9',\n",
    "    'Accept-Language': 'de-DE,de;q=0.9,en-US;q=0.8,en;q=0.7',\n",
    "}\n",
    "\n",
    "params = (\n",
    "    ('reportType', '9'),\n",
    "    ('timestamp', '1618492945869'),\n",
    "    ('start', start_date),\n",
    "    ('end', end_date),\n",
    "    ('projekt_id', '-1'),\n",
    "    ('user_id', '-1'),\n",
    "    ('vorgang_id', '-1'),\n",
    "    ('kunden_id', '-1'),\n",
    "    ('ansprechpartner_id', '-1'),\n",
    "    ('sort_id_1', '5'),\n",
    "    ('sort_id_2', '3'),\n",
    "    ('sort_id_3', '-1'),\n",
    "    ('sort_id_4', '-1'),\n",
    "    ('kostenstelle', '-1'),\n",
    "    ('taskcostunit', '-1'),\n",
    "    ('ansicht_id', '3'),\n",
    "    ('team_id', '-1'),\n",
    "    ('typ_id', '-1'),\n",
    "    ('auftragsnr', ''),\n",
    "    ('abrechenbar', '0'),\n",
    "    ('praemienrelevant', '0'),\n",
    "    ('kostentraegernummer', ''),\n",
    "    ('with_closed_vorgaenge', '1'),\n",
    "    ('datev_filter', '0'),\n",
    "    ('beschvh_id', '-1'),\n",
    "    ('seperator', 'TAB'),\n",
    "    ('andere', ''),\n",
    "    ('format', '1'),\n",
    ")\n",
    "\n",
    "response = requests.get('https://836.timo24.de/timo/reportexport', headers=headers, params=params, cookies=cookies)\n",
    "open(input_filename, 'wb').write(response.content)"
   ]
  },
  {
   "cell_type": "code",
   "execution_count": null,
   "metadata": {},
   "outputs": [],
   "source": [
    "as_dict = read_csv(input_filename)\n",
    "\n",
    "df = as_dict.filter(['Datum', 'Projekt', 'Mitarbeiter', 'Stunden'], axis=1)\n"
   ]
  },
  {
   "cell_type": "code",
   "execution_count": null,
   "metadata": {},
   "outputs": [],
   "source": [
    "def calc_hours(row):\n",
    "    if row['Stunden']:\n",
    "        hours = int(row['Stunden'].split(':')[0])\n",
    "        minutes = int(row['Stunden'].split(':')[1])\n",
    "        return hours + (minutes/60)\n",
    "    else:\n",
    "        return 0                                            \n",
    "\n",
    "df['Stunden_Dezimal'] = df.apply(lambda row: calc_hours(row), axis=1)\n",
    "df"
   ]
  },
  {
   "cell_type": "code",
   "execution_count": null,
   "metadata": {},
   "outputs": [],
   "source": [
    "df.drop('Stunden', axis=1)"
   ]
  },
  {
   "cell_type": "code",
   "execution_count": null,
   "metadata": {},
   "outputs": [],
   "source": [
    "df2 = df.groupby(['Mitarbeiter','Projekt'])['Stunden_Dezimal'].agg('sum').reset_index()\n"
   ]
  },
  {
   "cell_type": "code",
   "execution_count": null,
   "metadata": {},
   "outputs": [],
   "source": [
    "df2.to_excel(output, index = False, header=True)"
   ]
  },
  {
   "cell_type": "markdown",
   "metadata": {},
   "source": [
    "# Kontrolle\n",
    "\n",
    "Stunden (Output nächste Zelle) mit Timo-Auswertung abgleichen"
   ]
  },
  {
   "cell_type": "code",
   "execution_count": null,
   "metadata": {},
   "outputs": [],
   "source": [
    "df2['Stunden_Dezimal'].agg('sum')"
   ]
  },
  {
   "cell_type": "code",
   "execution_count": null,
   "metadata": {},
   "outputs": [],
   "source": []
  }
 ],
 "metadata": {
  "celltoolbar": "Tags",
  "kernelspec": {
   "display_name": "Python 3",
   "language": "python",
   "name": "python3"
  },
  "language_info": {
   "codemirror_mode": {
    "name": "ipython",
    "version": 3
   },
   "file_extension": ".py",
   "mimetype": "text/x-python",
   "name": "python",
   "nbconvert_exporter": "python",
   "pygments_lexer": "ipython3",
   "version": "3.9.2"
  }
 },
 "nbformat": 4,
 "nbformat_minor": 4
}
